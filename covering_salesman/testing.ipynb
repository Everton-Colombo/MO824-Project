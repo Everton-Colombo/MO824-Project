{
 "cells": [
  {
   "cell_type": "code",
   "execution_count": 1,
   "id": "6126126a",
   "metadata": {},
   "outputs": [],
   "source": [
    "from pathlib import Path\n",
    "from src.csp.instance import CspInstance\n",
    "from src.csp.evaluator import CspEvaluator\n",
    "from src.csp.solver import TabuSearchCSP"
   ]
  },
  {
   "cell_type": "code",
   "execution_count": null,
   "id": "96c4732b",
   "metadata": {},
   "outputs": [
    {
     "ename": "TypeError",
     "evalue": "unsupported operand type(s) for /: 'str' and 'str'",
     "output_type": "error",
     "traceback": [
      "\u001b[0;31m---------------------------------------------------------------------------\u001b[0m",
      "\u001b[0;31mTypeError\u001b[0m                                 Traceback (most recent call last)",
      "Cell \u001b[0;32mIn[3], line 6\u001b[0m\n\u001b[1;32m      3\u001b[0m iterations \u001b[38;5;241m=\u001b[39m \u001b[38;5;241m1000\u001b[39m\n\u001b[1;32m      5\u001b[0m root_dir \u001b[38;5;241m=\u001b[39m \u001b[38;5;124m\"\u001b[39m\u001b[38;5;124m../\u001b[39m\u001b[38;5;124m\"\u001b[39m\n\u001b[0;32m----> 6\u001b[0m instance_path \u001b[38;5;241m=\u001b[39m \u001b[43mroot_dir\u001b[49m\u001b[43m \u001b[49m\u001b[38;5;241;43m/\u001b[39;49m\u001b[43m \u001b[49m\u001b[38;5;124;43m\"\u001b[39;49m\u001b[38;5;124;43minstances\u001b[39;49m\u001b[38;5;124;43m\"\u001b[39;49m \u001b[38;5;241m/\u001b[39m instance_filename\n\u001b[1;32m      8\u001b[0m \u001b[38;5;66;03m# 1. Load Instance\u001b[39;00m\n\u001b[1;32m      9\u001b[0m instance \u001b[38;5;241m=\u001b[39m CspInstance(instance_path)\n",
      "\u001b[0;31mTypeError\u001b[0m: unsupported operand type(s) for /: 'str' and 'str'"
     ]
    }
   ],
   "source": [
    "instance_filename = \"eil51-7.csp2\" \n",
    "tenure = 10\n",
    "iterations = 1000\n",
    "\n",
    "root_dir = \"../\"\n",
    "instance_path = f\"{root_dir}/instances/{instance_filename}\"\n",
    "\n",
    "# 1. Load Instance\n",
    "instance = CspInstance(instance_path)\n",
    "evaluator = CspEvaluator(instance)\n",
    "solver = TabuSearchCSP(evaluator, tenure, iterations)\n",
    "\n",
    "# 4. Solve the problem\n",
    "print(\"\\nStarting Tabu Search...\")\n",
    "best_solution = solver.solve()\n",
    "\n",
    "# 5. Print the result\n",
    "print(\"\\n--- Best Solution Found ---\")\n",
    "print(best_solution)"
   ]
  }
 ],
 "metadata": {
  "kernelspec": {
   "display_name": "Python 3",
   "language": "python",
   "name": "python3"
  },
  "language_info": {
   "codemirror_mode": {
    "name": "ipython",
    "version": 3
   },
   "file_extension": ".py",
   "mimetype": "text/x-python",
   "name": "python",
   "nbconvert_exporter": "python",
   "pygments_lexer": "ipython3",
   "version": "3.10.12"
  }
 },
 "nbformat": 4,
 "nbformat_minor": 5
}
