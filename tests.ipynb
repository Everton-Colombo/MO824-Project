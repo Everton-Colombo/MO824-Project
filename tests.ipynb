{
 "cells": [
  {
   "cell_type": "code",
   "execution_count": 2,
   "id": "11ad145b",
   "metadata": {},
   "outputs": [],
   "source": [
    "import networkx as nk"
   ]
  },
  {
   "cell_type": "code",
   "execution_count": 6,
   "id": "965fab40",
   "metadata": {},
   "outputs": [],
   "source": [
    "G = nk.Graph()\n",
    "\n",
    "# Add weighted edges (node1, node2, weight)\n",
    "G.add_edge((0, 1), (1, 2), weight=4)\n",
    "G.add_edge((1, 2), (2, 3), weight=2)\n",
    "G.add_edge((2, 3), (3, 0), weight=5)\n",
    "\n",
    "# You can also add multiple edges at once:\n",
    "G.add_weighted_edges_from([\n",
    "    ((0, 1), (1, 2), 1),\n",
    "    ((1, 2), (2, 3), 3)\n",
    "])\n",
    "\n",
    "# Accessing the weight of an edge\n",
    "weight = G[(0, 1)][(1, 2)]['weight']  # returns 4"
   ]
  },
  {
   "cell_type": "code",
   "execution_count": 7,
   "id": "f8eae871",
   "metadata": {},
   "outputs": [
    {
     "data": {
      "text/plain": [
       "NodeView(((0, 1), (1, 2), (2, 3), (3, 0)))"
      ]
     },
     "execution_count": 7,
     "metadata": {},
     "output_type": "execute_result"
    }
   ],
   "source": [
    "G.nodes()  # returns list of nodes"
   ]
  }
 ],
 "metadata": {
  "kernelspec": {
   "display_name": "Python 3",
   "language": "python",
   "name": "python3"
  },
  "language_info": {
   "codemirror_mode": {
    "name": "ipython",
    "version": 3
   },
   "file_extension": ".py",
   "mimetype": "text/x-python",
   "name": "python",
   "nbconvert_exporter": "python",
   "pygments_lexer": "ipython3",
   "version": "3.10.12"
  }
 },
 "nbformat": 4,
 "nbformat_minor": 5
}
